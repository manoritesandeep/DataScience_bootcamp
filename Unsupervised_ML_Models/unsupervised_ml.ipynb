{
 "cells": [
  {
   "attachments": {},
   "cell_type": "markdown",
   "metadata": {},
   "source": [
    "K Means clustering is an unsupervised learning algorithm that will attempt to group similar clusters together in your data."
   ]
  },
  {
   "attachments": {},
   "cell_type": "markdown",
   "metadata": {},
   "source": [
    "PCA \n",
    "\n",
    "Is an unsupervised statistical technique used to examine the interrelations among a set of variables in order to identify the underlying structure of those variables.\n",
    "\n",
    "It is also known sometimes as a general **factor analysis**"
   ]
  },
  {
   "attachments": {},
   "cell_type": "markdown",
   "metadata": {},
   "source": [
    "# Recommender Systems\n",
    "\n",
    "The two most common types of recommender systems are **Content-Based** and **Collaborative Filtering (CF)**\n",
    "\n",
    "    - Collaborative filtering produces recommendations based on the knowledge of users attitude to items, that is it uses the \"wisdom of the crowd\" to recommend items\n",
    "    - Content-based recommender systems focus on the attributes of the items and give you recommendations based on the similarity between them "
   ]
  },
  {
   "attachments": {},
   "cell_type": "markdown",
   "metadata": {},
   "source": [
    "In the real world collaborative filtering or CFis more commonly used in content\n",
    "based systems because it usually gives better results and it's actually relatively easy to understandfrom an overall implementation perspective. The collaborative filtering algorithm actually has the ability to do feature learning on its own which means that it can start to learn for itself what features to use when recommending certain items.\n",
    "CF can also be divided into two subcategories.\n",
    "**Memory based collaborative filtering** and **model based collaborative filtering**."
   ]
  },
  {
   "cell_type": "markdown",
   "metadata": {},
   "source": []
  }
 ],
 "metadata": {
  "kernelspec": {
   "display_name": "venv",
   "language": "python",
   "name": "python3"
  },
  "language_info": {
   "name": "python",
   "version": "3.8.10"
  },
  "orig_nbformat": 4,
  "vscode": {
   "interpreter": {
    "hash": "15b32b2cde8fa41eeac1fb310922f237711f19aec856398eb142445d1f54deec"
   }
  }
 },
 "nbformat": 4,
 "nbformat_minor": 2
}
