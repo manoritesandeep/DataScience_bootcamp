{
 "cells": [
  {
   "attachments": {},
   "cell_type": "markdown",
   "metadata": {},
   "source": [
    "Key classisfication metrics:\n",
    "- Accuracy: is the number of correct predictions made by the model divided by the number of or the total number of predictions. Acurracy is a good choice with 'balanced' classes/dataset.\n",
    "- Recall: Recall is the ability of a model to find all the relevant cases within a data set. It's the number of true positives divided by the number of true positives plus the number of false\n",
    "- Precision: the precision is the ability of a classification model to identify only the relevant data points, where precision is defined as the number of true positives divided by the number of true positives plus\n",
    "the number of false positives.\n",
    "\n",
    "Note: you have a tradeoff between recall and precision.\n",
    "While Recall expresses the ability to find all the relevant instances in a data set.\n",
    "Precision expresses the proportion of the data points our model says was relevant that actually were relevant.\n",
    "\n",
    "- F1-Score: is essentially a combination of these two.\n",
    "In cases where we want to find an optimal blend of precision and recall, we can combine the two metrics using what is known as the F one score. And the F one score is the harmonic mean of precision and recall, taking both metrics into account. The reason we use the harmonic mean instead of just a simple mean or simple average is because it's going to punish extreme values."
   ]
  },
  {
   "attachments": {},
   "cell_type": "markdown",
   "metadata": {},
   "source": [
    "Most common evaluation metrics for regression:\n",
    "- Mean Absolute Error: This is the mean of the absolute value of errors. MAE won't punish large errors.\n",
    "- Mean Squared Error: This is the mean of the squared errors. When we square larger errors are noted more than with MAE. Issue: Also squares the units.. $ is $^2\n",
    "- Root Mean Square Error: Most popular, This is the root of the mean of the squared errors.\n",
    "\n",
    "Compare error metrics to the average value of the label in your data set to try to get an intuition of its overall performance. Domain knowledge is important."
   ]
  },
  {
   "cell_type": "markdown",
   "metadata": {},
   "source": [
    "## Regression Evaluation Metrics\n",
    "\n",
    "\n",
    "Here are three common evaluation metrics for regression problems:\n",
    "\n",
    "**Mean Absolute Error** (MAE) is the mean of the absolute value of the errors:\n",
    "\n",
    "$$\\frac 1n\\sum_{i=1}^n|y_i-\\hat{y}_i|$$\n",
    "\n",
    "**Mean Squared Error** (MSE) is the mean of the squared errors:\n",
    "\n",
    "$$\\frac 1n\\sum_{i=1}^n(y_i-\\hat{y}_i)^2$$\n",
    "\n",
    "**Root Mean Squared Error** (RMSE) is the square root of the mean of the squared errors:\n",
    "\n",
    "$$\\sqrt{\\frac 1n\\sum_{i=1}^n(y_i-\\hat{y}_i)^2}$$\n",
    "\n",
    "Comparing these metrics:\n",
    "\n",
    "- **MAE** is the easiest to understand, because it's the average error.\n",
    "- **MSE** is more popular than MAE, because MSE \"punishes\" larger errors, which tends to be useful in the real world.\n",
    "- **RMSE** is even more popular than MSE, because RMSE is interpretable in the \"y\" units.\n",
    "\n",
    "All of these are **loss functions**, because we want to minimize them."
   ]
  },
  {
   "attachments": {},
   "cell_type": "markdown",
   "metadata": {},
   "source": [
    "Bias Variance Trade-Off\n",
    "\n",
    "The bias-variance trade-off is the point where we are adding just noise by adding model complexity (flexibility). \n",
    "\n",
    "The training error goes down as it has to, but the test error is starting to go up.\n",
    "\n",
    "The model after the bias trade-off begins to overfit."
   ]
  },
  {
   "attachments": {},
   "cell_type": "markdown",
   "metadata": {},
   "source": [
    "SVM are supervised learning models with associated learning algorithms that analyze data and recognize patterns, used for classification and regression analysis.\n"
   ]
  },
  {
   "cell_type": "markdown",
   "metadata": {},
   "source": []
  },
  {
   "cell_type": "markdown",
   "metadata": {},
   "source": []
  },
  {
   "cell_type": "markdown",
   "metadata": {},
   "source": []
  }
 ],
 "metadata": {
  "kernelspec": {
   "display_name": "venv",
   "language": "python",
   "name": "python3"
  },
  "language_info": {
   "name": "python",
   "version": "3.8.10"
  },
  "orig_nbformat": 4,
  "vscode": {
   "interpreter": {
    "hash": "15b32b2cde8fa41eeac1fb310922f237711f19aec856398eb142445d1f54deec"
   }
  }
 },
 "nbformat": 4,
 "nbformat_minor": 2
}
