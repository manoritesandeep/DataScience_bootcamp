{
 "cells": [
  {
   "cell_type": "markdown",
   "metadata": {},
   "source": [
    "# Tensorboard\n",
    "\n",
    "---\n",
    "---\n",
    "\n",
    "**NOTE: You must watch the corresponding video to understand this lecture. This notebook can't serve as a full guide. Please watch the video BEFORE posting questions to the QA forum.**\n",
    "\n",
    "---\n",
    "---\n",
    "\n",
    "Let's explore the built in data visualization capabilities that come with Tensorboard.\n",
    "\n",
    "Full official tutorial available here: https://www.tensorflow.org/tensorboard/get_started\n",
    "\n",
    "## Data"
   ]
  },
  {
   "cell_type": "code",
   "execution_count": 1,
   "metadata": {},
   "outputs": [],
   "source": [
    "import pandas as pd\n",
    "import numpy as np"
   ]
  },
  {
   "cell_type": "code",
   "execution_count": 2,
   "metadata": {},
   "outputs": [],
   "source": [
    "df = pd.read_csv('../deep_learning_tensorflow/DATA/cancer_classification.csv')"
   ]
  },
  {
   "cell_type": "markdown",
   "metadata": {},
   "source": [
    "### Train Test Split"
   ]
  },
  {
   "cell_type": "code",
   "execution_count": 3,
   "metadata": {},
   "outputs": [],
   "source": [
    "X = df.drop('benign_0__mal_1',axis=1).values\n",
    "y = df['benign_0__mal_1'].values"
   ]
  },
  {
   "cell_type": "code",
   "execution_count": 4,
   "metadata": {},
   "outputs": [],
   "source": [
    "from sklearn.model_selection import train_test_split"
   ]
  },
  {
   "cell_type": "code",
   "execution_count": 5,
   "metadata": {},
   "outputs": [],
   "source": [
    "X_train, X_test, y_train, y_test = train_test_split(X,y,test_size=0.25,random_state=101)"
   ]
  },
  {
   "cell_type": "markdown",
   "metadata": {},
   "source": [
    "\n",
    "### Scaling Data"
   ]
  },
  {
   "cell_type": "code",
   "execution_count": 6,
   "metadata": {},
   "outputs": [],
   "source": [
    "from sklearn.preprocessing import MinMaxScaler"
   ]
  },
  {
   "cell_type": "code",
   "execution_count": 7,
   "metadata": {},
   "outputs": [],
   "source": [
    "scaler = MinMaxScaler()"
   ]
  },
  {
   "cell_type": "code",
   "execution_count": 8,
   "metadata": {},
   "outputs": [
    {
     "data": {
      "text/html": [
       "<style>#sk-container-id-1 {color: black;background-color: white;}#sk-container-id-1 pre{padding: 0;}#sk-container-id-1 div.sk-toggleable {background-color: white;}#sk-container-id-1 label.sk-toggleable__label {cursor: pointer;display: block;width: 100%;margin-bottom: 0;padding: 0.3em;box-sizing: border-box;text-align: center;}#sk-container-id-1 label.sk-toggleable__label-arrow:before {content: \"▸\";float: left;margin-right: 0.25em;color: #696969;}#sk-container-id-1 label.sk-toggleable__label-arrow:hover:before {color: black;}#sk-container-id-1 div.sk-estimator:hover label.sk-toggleable__label-arrow:before {color: black;}#sk-container-id-1 div.sk-toggleable__content {max-height: 0;max-width: 0;overflow: hidden;text-align: left;background-color: #f0f8ff;}#sk-container-id-1 div.sk-toggleable__content pre {margin: 0.2em;color: black;border-radius: 0.25em;background-color: #f0f8ff;}#sk-container-id-1 input.sk-toggleable__control:checked~div.sk-toggleable__content {max-height: 200px;max-width: 100%;overflow: auto;}#sk-container-id-1 input.sk-toggleable__control:checked~label.sk-toggleable__label-arrow:before {content: \"▾\";}#sk-container-id-1 div.sk-estimator input.sk-toggleable__control:checked~label.sk-toggleable__label {background-color: #d4ebff;}#sk-container-id-1 div.sk-label input.sk-toggleable__control:checked~label.sk-toggleable__label {background-color: #d4ebff;}#sk-container-id-1 input.sk-hidden--visually {border: 0;clip: rect(1px 1px 1px 1px);clip: rect(1px, 1px, 1px, 1px);height: 1px;margin: -1px;overflow: hidden;padding: 0;position: absolute;width: 1px;}#sk-container-id-1 div.sk-estimator {font-family: monospace;background-color: #f0f8ff;border: 1px dotted black;border-radius: 0.25em;box-sizing: border-box;margin-bottom: 0.5em;}#sk-container-id-1 div.sk-estimator:hover {background-color: #d4ebff;}#sk-container-id-1 div.sk-parallel-item::after {content: \"\";width: 100%;border-bottom: 1px solid gray;flex-grow: 1;}#sk-container-id-1 div.sk-label:hover label.sk-toggleable__label {background-color: #d4ebff;}#sk-container-id-1 div.sk-serial::before {content: \"\";position: absolute;border-left: 1px solid gray;box-sizing: border-box;top: 0;bottom: 0;left: 50%;z-index: 0;}#sk-container-id-1 div.sk-serial {display: flex;flex-direction: column;align-items: center;background-color: white;padding-right: 0.2em;padding-left: 0.2em;position: relative;}#sk-container-id-1 div.sk-item {position: relative;z-index: 1;}#sk-container-id-1 div.sk-parallel {display: flex;align-items: stretch;justify-content: center;background-color: white;position: relative;}#sk-container-id-1 div.sk-item::before, #sk-container-id-1 div.sk-parallel-item::before {content: \"\";position: absolute;border-left: 1px solid gray;box-sizing: border-box;top: 0;bottom: 0;left: 50%;z-index: -1;}#sk-container-id-1 div.sk-parallel-item {display: flex;flex-direction: column;z-index: 1;position: relative;background-color: white;}#sk-container-id-1 div.sk-parallel-item:first-child::after {align-self: flex-end;width: 50%;}#sk-container-id-1 div.sk-parallel-item:last-child::after {align-self: flex-start;width: 50%;}#sk-container-id-1 div.sk-parallel-item:only-child::after {width: 0;}#sk-container-id-1 div.sk-dashed-wrapped {border: 1px dashed gray;margin: 0 0.4em 0.5em 0.4em;box-sizing: border-box;padding-bottom: 0.4em;background-color: white;}#sk-container-id-1 div.sk-label label {font-family: monospace;font-weight: bold;display: inline-block;line-height: 1.2em;}#sk-container-id-1 div.sk-label-container {text-align: center;}#sk-container-id-1 div.sk-container {/* jupyter's `normalize.less` sets `[hidden] { display: none; }` but bootstrap.min.css set `[hidden] { display: none !important; }` so we also need the `!important` here to be able to override the default hidden behavior on the sphinx rendered scikit-learn.org. See: https://github.com/scikit-learn/scikit-learn/issues/21755 */display: inline-block !important;position: relative;}#sk-container-id-1 div.sk-text-repr-fallback {display: none;}</style><div id=\"sk-container-id-1\" class=\"sk-top-container\"><div class=\"sk-text-repr-fallback\"><pre>MinMaxScaler()</pre><b>In a Jupyter environment, please rerun this cell to show the HTML representation or trust the notebook. <br />On GitHub, the HTML representation is unable to render, please try loading this page with nbviewer.org.</b></div><div class=\"sk-container\" hidden><div class=\"sk-item\"><div class=\"sk-estimator sk-toggleable\"><input class=\"sk-toggleable__control sk-hidden--visually\" id=\"sk-estimator-id-1\" type=\"checkbox\" checked><label for=\"sk-estimator-id-1\" class=\"sk-toggleable__label sk-toggleable__label-arrow\">MinMaxScaler</label><div class=\"sk-toggleable__content\"><pre>MinMaxScaler()</pre></div></div></div></div></div>"
      ],
      "text/plain": [
       "MinMaxScaler()"
      ]
     },
     "execution_count": 8,
     "metadata": {},
     "output_type": "execute_result"
    }
   ],
   "source": [
    "scaler.fit(X_train)"
   ]
  },
  {
   "cell_type": "code",
   "execution_count": 9,
   "metadata": {},
   "outputs": [],
   "source": [
    "X_train = scaler.transform(X_train)\n",
    "X_test = scaler.transform(X_test)"
   ]
  },
  {
   "cell_type": "markdown",
   "metadata": {},
   "source": [
    "## Creating the Model"
   ]
  },
  {
   "cell_type": "code",
   "execution_count": 10,
   "metadata": {},
   "outputs": [],
   "source": [
    "import tensorflow as tf\n",
    "from tensorflow.keras.models import Sequential\n",
    "from tensorflow.keras.layers import Dense, Activation,Dropout"
   ]
  },
  {
   "cell_type": "code",
   "execution_count": 11,
   "metadata": {},
   "outputs": [],
   "source": [
    "from tensorflow.keras.callbacks import EarlyStopping,TensorBoard"
   ]
  },
  {
   "cell_type": "code",
   "execution_count": 12,
   "metadata": {},
   "outputs": [],
   "source": [
    "early_stop = EarlyStopping(monitor='val_loss', mode='min', verbose=1, patience=25)"
   ]
  },
  {
   "cell_type": "code",
   "execution_count": 13,
   "metadata": {},
   "outputs": [
    {
     "data": {
      "text/plain": [
       "'c:\\\\Users\\\\manor\\\\OneDrive - kettering.edu\\\\Online Learning Portal Docs\\\\Udemy\\\\Personal\\\\Python for Data Science and Machine Learning Bootcamp\\\\deep_learning_tensorflow'"
      ]
     },
     "execution_count": 13,
     "metadata": {},
     "output_type": "execute_result"
    }
   ],
   "source": [
    "pwd"
   ]
  },
  {
   "cell_type": "markdown",
   "metadata": {},
   "source": [
    "## Creating the Tensorboard Callback\n",
    "\n",
    "TensorBoard is a visualization tool provided with TensorFlow.\n",
    "\n",
    "This callback logs events for TensorBoard, including:\n",
    "* Metrics summary plots\n",
    "* Training graph visualization\n",
    "* Activation histograms\n",
    "* Sampled profiling\n",
    "\n",
    "If you have installed TensorFlow with pip, you should be able\n",
    "to launch TensorBoard from the command line:\n",
    "\n",
    "```sh\n",
    "tensorboard --logdir=path_to_your_logs\n",
    "```\n",
    "\n",
    "You can find more information about TensorBoard\n",
    "[here](https://www.tensorflow.org/tensorboard/).\n",
    "\n",
    "    Arguments:\n",
    "        log_dir: the path of the directory where to save the log files to be\n",
    "          parsed by TensorBoard.\n",
    "        histogram_freq: frequency (in epochs) at which to compute activation and\n",
    "          weight histograms for the layers of the model. If set to 0, histograms\n",
    "          won't be computed. Validation data (or split) must be specified for\n",
    "          histogram visualizations.\n",
    "        write_graph: whether to visualize the graph in TensorBoard. The log file\n",
    "          can become quite large when write_graph is set to True.\n",
    "        write_images: whether to write model weights to visualize as image in\n",
    "          TensorBoard.\n",
    "        update_freq: `'batch'` or `'epoch'` or integer. When using `'batch'`,\n",
    "          writes the losses and metrics to TensorBoard after each batch. The same\n",
    "          applies for `'epoch'`. If using an integer, let's say `1000`, the\n",
    "          callback will write the metrics and losses to TensorBoard every 1000\n",
    "          samples. Note that writing too frequently to TensorBoard can slow down\n",
    "          your training.\n",
    "        profile_batch: Profile the batch to sample compute characteristics. By\n",
    "          default, it will profile the second batch. Set profile_batch=0 to\n",
    "          disable profiling. Must run in TensorFlow eager mode.\n",
    "        embeddings_freq: frequency (in epochs) at which embedding layers will\n",
    "          be visualized. If set to 0, embeddings won't be visualized.\n",
    "       "
   ]
  },
  {
   "cell_type": "code",
   "execution_count": 14,
   "metadata": {},
   "outputs": [],
   "source": [
    "from datetime import datetime"
   ]
  },
  {
   "cell_type": "code",
   "execution_count": 15,
   "metadata": {},
   "outputs": [
    {
     "data": {
      "text/plain": [
       "'2023-02-26--1139'"
      ]
     },
     "execution_count": 15,
     "metadata": {},
     "output_type": "execute_result"
    }
   ],
   "source": [
    "datetime.now().strftime(\"%Y-%m-%d--%H%M\")"
   ]
  },
  {
   "cell_type": "code",
   "execution_count": 16,
   "metadata": {},
   "outputs": [],
   "source": [
    "# WINDOWS: Use \"logs\\\\fit\"\n",
    "# MACOS/LINUX: Use \"logs\\fit\"\n",
    "\n",
    "log_directory = 'logs\\\\fit'\n",
    "\n",
    "# OPTIONAL: ADD A TIMESTAMP FOR UNIQUE FOLDER\n",
    "# timestamp = datetime.now().strftime(\"%Y-%m-%d--%H%M\")\n",
    "# log_directory = log_directory + '\\\\' + timestamp\n",
    "\n",
    "\n",
    "board = TensorBoard(log_dir=log_directory,histogram_freq=1,\n",
    "    write_graph=True,\n",
    "    write_images=True,\n",
    "    update_freq='epoch',\n",
    "    profile_batch=2,\n",
    "    embeddings_freq=1)"
   ]
  },
  {
   "cell_type": "markdown",
   "metadata": {},
   "source": [
    "Now create the model layers:"
   ]
  },
  {
   "cell_type": "code",
   "execution_count": 17,
   "metadata": {},
   "outputs": [],
   "source": [
    "model = Sequential()\n",
    "model.add(Dense(units=30,activation='relu'))\n",
    "model.add(Dropout(0.5))\n",
    "model.add(Dense(units=15,activation='relu'))\n",
    "model.add(Dropout(0.5))\n",
    "model.add(Dense(units=1,activation='sigmoid'))\n",
    "model.compile(loss='binary_crossentropy', optimizer='adam')"
   ]
  },
  {
   "cell_type": "markdown",
   "metadata": {},
   "source": [
    "## Train the Model"
   ]
  },
  {
   "cell_type": "code",
   "execution_count": 18,
   "metadata": {},
   "outputs": [
    {
     "name": "stdout",
     "output_type": "stream",
     "text": [
      "Epoch 1/600\n",
      "14/14 [==============================] - 2s 73ms/step - loss: 0.7112 - val_loss: 0.6721\n",
      "Epoch 2/600\n",
      "14/14 [==============================] - 0s 27ms/step - loss: 0.6798 - val_loss: 0.6538\n",
      "Epoch 3/600\n",
      "14/14 [==============================] - 0s 30ms/step - loss: 0.6528 - val_loss: 0.6322\n",
      "Epoch 4/600\n",
      "14/14 [==============================] - 0s 18ms/step - loss: 0.6402 - val_loss: 0.6100\n",
      "Epoch 5/600\n",
      "14/14 [==============================] - 0s 17ms/step - loss: 0.6184 - val_loss: 0.5854\n",
      "Epoch 6/600\n",
      "14/14 [==============================] - 0s 16ms/step - loss: 0.6058 - val_loss: 0.5638\n",
      "Epoch 7/600\n",
      "14/14 [==============================] - 0s 17ms/step - loss: 0.5787 - val_loss: 0.5377\n",
      "Epoch 8/600\n",
      "14/14 [==============================] - 0s 17ms/step - loss: 0.5594 - val_loss: 0.5160\n",
      "Epoch 9/600\n",
      "14/14 [==============================] - 0s 20ms/step - loss: 0.5460 - val_loss: 0.4905\n",
      "Epoch 10/600\n",
      "14/14 [==============================] - 0s 15ms/step - loss: 0.5205 - val_loss: 0.4624\n",
      "Epoch 11/600\n",
      "14/14 [==============================] - 0s 14ms/step - loss: 0.5111 - val_loss: 0.4327\n",
      "Epoch 12/600\n",
      "14/14 [==============================] - 0s 15ms/step - loss: 0.5006 - val_loss: 0.4078\n",
      "Epoch 13/600\n",
      "14/14 [==============================] - 0s 15ms/step - loss: 0.4525 - val_loss: 0.3828\n",
      "Epoch 14/600\n",
      "14/14 [==============================] - 0s 15ms/step - loss: 0.4417 - val_loss: 0.3604\n",
      "Epoch 15/600\n",
      "14/14 [==============================] - 0s 14ms/step - loss: 0.4389 - val_loss: 0.3410\n",
      "Epoch 16/600\n",
      "14/14 [==============================] - 0s 14ms/step - loss: 0.3938 - val_loss: 0.3164\n",
      "Epoch 17/600\n",
      "14/14 [==============================] - 0s 15ms/step - loss: 0.3596 - val_loss: 0.2953\n",
      "Epoch 18/600\n",
      "14/14 [==============================] - 0s 15ms/step - loss: 0.3865 - val_loss: 0.2737\n",
      "Epoch 19/600\n",
      "14/14 [==============================] - 0s 18ms/step - loss: 0.3645 - val_loss: 0.2601\n",
      "Epoch 20/600\n",
      "14/14 [==============================] - 0s 17ms/step - loss: 0.3642 - val_loss: 0.2533\n",
      "Epoch 21/600\n",
      "14/14 [==============================] - 0s 21ms/step - loss: 0.3311 - val_loss: 0.2318\n",
      "Epoch 22/600\n",
      "14/14 [==============================] - 0s 25ms/step - loss: 0.3297 - val_loss: 0.2205\n",
      "Epoch 23/600\n",
      "14/14 [==============================] - 0s 29ms/step - loss: 0.3295 - val_loss: 0.2132\n",
      "Epoch 24/600\n",
      "14/14 [==============================] - 0s 20ms/step - loss: 0.2954 - val_loss: 0.2059\n",
      "Epoch 25/600\n",
      "14/14 [==============================] - 0s 17ms/step - loss: 0.2725 - val_loss: 0.1926\n",
      "Epoch 26/600\n",
      "14/14 [==============================] - 0s 18ms/step - loss: 0.2609 - val_loss: 0.1803\n",
      "Epoch 27/600\n",
      "14/14 [==============================] - 0s 15ms/step - loss: 0.2694 - val_loss: 0.1775\n",
      "Epoch 28/600\n",
      "14/14 [==============================] - 0s 16ms/step - loss: 0.2443 - val_loss: 0.1618\n",
      "Epoch 29/600\n",
      "14/14 [==============================] - 0s 15ms/step - loss: 0.2568 - val_loss: 0.1672\n",
      "Epoch 30/600\n",
      "14/14 [==============================] - 0s 17ms/step - loss: 0.2404 - val_loss: 0.1539\n",
      "Epoch 31/600\n",
      "14/14 [==============================] - 0s 14ms/step - loss: 0.2505 - val_loss: 0.1495\n",
      "Epoch 32/600\n",
      "14/14 [==============================] - 0s 15ms/step - loss: 0.2170 - val_loss: 0.1445\n",
      "Epoch 33/600\n",
      "14/14 [==============================] - 0s 17ms/step - loss: 0.2247 - val_loss: 0.1379\n",
      "Epoch 34/600\n",
      "14/14 [==============================] - 0s 35ms/step - loss: 0.2253 - val_loss: 0.1440\n",
      "Epoch 35/600\n",
      "14/14 [==============================] - 1s 54ms/step - loss: 0.2326 - val_loss: 0.1368\n",
      "Epoch 36/600\n",
      "14/14 [==============================] - 0s 27ms/step - loss: 0.2238 - val_loss: 0.1379\n",
      "Epoch 37/600\n",
      "14/14 [==============================] - 0s 28ms/step - loss: 0.2145 - val_loss: 0.1311\n",
      "Epoch 38/600\n",
      "14/14 [==============================] - 0s 35ms/step - loss: 0.1892 - val_loss: 0.1299\n",
      "Epoch 39/600\n",
      "14/14 [==============================] - 0s 31ms/step - loss: 0.2069 - val_loss: 0.1286\n",
      "Epoch 40/600\n",
      "14/14 [==============================] - 0s 26ms/step - loss: 0.2060 - val_loss: 0.1271\n",
      "Epoch 41/600\n",
      "14/14 [==============================] - 0s 29ms/step - loss: 0.2093 - val_loss: 0.1195\n",
      "Epoch 42/600\n",
      "14/14 [==============================] - 0s 32ms/step - loss: 0.1806 - val_loss: 0.1173\n",
      "Epoch 43/600\n",
      "14/14 [==============================] - 0s 20ms/step - loss: 0.1841 - val_loss: 0.1169\n",
      "Epoch 44/600\n",
      "14/14 [==============================] - 0s 26ms/step - loss: 0.1631 - val_loss: 0.1086\n",
      "Epoch 45/600\n",
      "14/14 [==============================] - 0s 22ms/step - loss: 0.1766 - val_loss: 0.1237\n",
      "Epoch 46/600\n",
      "14/14 [==============================] - 0s 22ms/step - loss: 0.1871 - val_loss: 0.1175\n",
      "Epoch 47/600\n",
      "14/14 [==============================] - 0s 26ms/step - loss: 0.1684 - val_loss: 0.1080\n",
      "Epoch 48/600\n",
      "14/14 [==============================] - 0s 27ms/step - loss: 0.1757 - val_loss: 0.1095\n",
      "Epoch 49/600\n",
      "14/14 [==============================] - 0s 28ms/step - loss: 0.1621 - val_loss: 0.1049\n",
      "Epoch 50/600\n",
      "14/14 [==============================] - 0s 21ms/step - loss: 0.1388 - val_loss: 0.1079\n",
      "Epoch 51/600\n",
      "14/14 [==============================] - 0s 22ms/step - loss: 0.1519 - val_loss: 0.1119\n",
      "Epoch 52/600\n",
      "14/14 [==============================] - 0s 35ms/step - loss: 0.1406 - val_loss: 0.1008\n",
      "Epoch 53/600\n",
      "14/14 [==============================] - 1s 43ms/step - loss: 0.1439 - val_loss: 0.1004\n",
      "Epoch 54/600\n",
      "14/14 [==============================] - 0s 34ms/step - loss: 0.1445 - val_loss: 0.1020\n",
      "Epoch 55/600\n",
      "14/14 [==============================] - 0s 27ms/step - loss: 0.1341 - val_loss: 0.1018\n",
      "Epoch 56/600\n",
      "14/14 [==============================] - 0s 24ms/step - loss: 0.1322 - val_loss: 0.0999\n",
      "Epoch 57/600\n",
      "14/14 [==============================] - 0s 25ms/step - loss: 0.1517 - val_loss: 0.0994\n",
      "Epoch 58/600\n",
      "14/14 [==============================] - 0s 25ms/step - loss: 0.1275 - val_loss: 0.1067\n",
      "Epoch 59/600\n",
      "14/14 [==============================] - 0s 21ms/step - loss: 0.1491 - val_loss: 0.1038\n",
      "Epoch 60/600\n",
      "14/14 [==============================] - 0s 15ms/step - loss: 0.1308 - val_loss: 0.0966\n",
      "Epoch 61/600\n",
      "14/14 [==============================] - 0s 17ms/step - loss: 0.1383 - val_loss: 0.0982\n",
      "Epoch 62/600\n",
      "14/14 [==============================] - 0s 16ms/step - loss: 0.1373 - val_loss: 0.0952\n",
      "Epoch 63/600\n",
      "14/14 [==============================] - 0s 19ms/step - loss: 0.1321 - val_loss: 0.1131\n",
      "Epoch 64/600\n",
      "14/14 [==============================] - 0s 17ms/step - loss: 0.1429 - val_loss: 0.1000\n",
      "Epoch 65/600\n",
      "14/14 [==============================] - 0s 22ms/step - loss: 0.1286 - val_loss: 0.1007\n",
      "Epoch 66/600\n",
      "14/14 [==============================] - 0s 20ms/step - loss: 0.1242 - val_loss: 0.0993\n",
      "Epoch 67/600\n",
      "14/14 [==============================] - 1s 48ms/step - loss: 0.1304 - val_loss: 0.0951\n",
      "Epoch 68/600\n",
      "14/14 [==============================] - 0s 27ms/step - loss: 0.1221 - val_loss: 0.0906\n",
      "Epoch 69/600\n",
      "14/14 [==============================] - 0s 30ms/step - loss: 0.1254 - val_loss: 0.0914\n",
      "Epoch 70/600\n",
      "14/14 [==============================] - 0s 21ms/step - loss: 0.1286 - val_loss: 0.1015\n",
      "Epoch 71/600\n",
      "14/14 [==============================] - 0s 21ms/step - loss: 0.1241 - val_loss: 0.0959\n",
      "Epoch 72/600\n",
      "14/14 [==============================] - 0s 20ms/step - loss: 0.1147 - val_loss: 0.0929\n",
      "Epoch 73/600\n",
      "14/14 [==============================] - 0s 20ms/step - loss: 0.1325 - val_loss: 0.0891\n",
      "Epoch 74/600\n",
      "14/14 [==============================] - 0s 17ms/step - loss: 0.1159 - val_loss: 0.0881\n",
      "Epoch 75/600\n",
      "14/14 [==============================] - 0s 21ms/step - loss: 0.1189 - val_loss: 0.0983\n",
      "Epoch 76/600\n",
      "14/14 [==============================] - 0s 21ms/step - loss: 0.1273 - val_loss: 0.0948\n",
      "Epoch 77/600\n",
      "14/14 [==============================] - 0s 21ms/step - loss: 0.0995 - val_loss: 0.1018\n",
      "Epoch 78/600\n",
      "14/14 [==============================] - 0s 18ms/step - loss: 0.0911 - val_loss: 0.0873\n",
      "Epoch 79/600\n",
      "14/14 [==============================] - 0s 18ms/step - loss: 0.1288 - val_loss: 0.0890\n",
      "Epoch 80/600\n",
      "14/14 [==============================] - 0s 18ms/step - loss: 0.1239 - val_loss: 0.0934\n",
      "Epoch 81/600\n",
      "14/14 [==============================] - 0s 18ms/step - loss: 0.0970 - val_loss: 0.0941\n",
      "Epoch 82/600\n",
      "14/14 [==============================] - 0s 19ms/step - loss: 0.1181 - val_loss: 0.0933\n",
      "Epoch 83/600\n",
      "14/14 [==============================] - 0s 19ms/step - loss: 0.1080 - val_loss: 0.1092\n",
      "Epoch 84/600\n",
      "14/14 [==============================] - 0s 21ms/step - loss: 0.1146 - val_loss: 0.1005\n",
      "Epoch 85/600\n",
      "14/14 [==============================] - 0s 25ms/step - loss: 0.1135 - val_loss: 0.0889\n",
      "Epoch 86/600\n",
      "14/14 [==============================] - 0s 30ms/step - loss: 0.1110 - val_loss: 0.0881\n",
      "Epoch 87/600\n",
      "14/14 [==============================] - 0s 25ms/step - loss: 0.1106 - val_loss: 0.0862\n",
      "Epoch 88/600\n",
      "14/14 [==============================] - 0s 23ms/step - loss: 0.1164 - val_loss: 0.0961\n",
      "Epoch 89/600\n",
      "14/14 [==============================] - 0s 17ms/step - loss: 0.0990 - val_loss: 0.0974\n",
      "Epoch 90/600\n",
      "14/14 [==============================] - 0s 20ms/step - loss: 0.1002 - val_loss: 0.1008\n",
      "Epoch 91/600\n",
      "14/14 [==============================] - 0s 31ms/step - loss: 0.1172 - val_loss: 0.0839\n",
      "Epoch 92/600\n",
      "14/14 [==============================] - 0s 18ms/step - loss: 0.1004 - val_loss: 0.0929\n",
      "Epoch 93/600\n",
      "14/14 [==============================] - 0s 17ms/step - loss: 0.0935 - val_loss: 0.0914\n",
      "Epoch 94/600\n",
      "14/14 [==============================] - 0s 19ms/step - loss: 0.0973 - val_loss: 0.0841\n",
      "Epoch 95/600\n",
      "14/14 [==============================] - 0s 19ms/step - loss: 0.1022 - val_loss: 0.0864\n",
      "Epoch 96/600\n",
      "14/14 [==============================] - 0s 18ms/step - loss: 0.1061 - val_loss: 0.0960\n",
      "Epoch 97/600\n",
      "14/14 [==============================] - 0s 17ms/step - loss: 0.0856 - val_loss: 0.0901\n",
      "Epoch 98/600\n",
      "14/14 [==============================] - 0s 17ms/step - loss: 0.0937 - val_loss: 0.0890\n",
      "Epoch 99/600\n",
      "14/14 [==============================] - 0s 19ms/step - loss: 0.0987 - val_loss: 0.1032\n",
      "Epoch 100/600\n",
      "14/14 [==============================] - 0s 19ms/step - loss: 0.0891 - val_loss: 0.1045\n",
      "Epoch 101/600\n",
      "14/14 [==============================] - 0s 19ms/step - loss: 0.1036 - val_loss: 0.0908\n",
      "Epoch 102/600\n",
      "14/14 [==============================] - 0s 25ms/step - loss: 0.1249 - val_loss: 0.1106\n",
      "Epoch 103/600\n",
      "14/14 [==============================] - 0s 32ms/step - loss: 0.0965 - val_loss: 0.0915\n",
      "Epoch 104/600\n",
      "14/14 [==============================] - 0s 26ms/step - loss: 0.0932 - val_loss: 0.0916\n",
      "Epoch 105/600\n",
      "14/14 [==============================] - 0s 22ms/step - loss: 0.0794 - val_loss: 0.0884\n",
      "Epoch 106/600\n",
      "14/14 [==============================] - 0s 20ms/step - loss: 0.0984 - val_loss: 0.0949\n",
      "Epoch 107/600\n",
      "14/14 [==============================] - 0s 17ms/step - loss: 0.1022 - val_loss: 0.0994\n",
      "Epoch 108/600\n",
      "14/14 [==============================] - 0s 17ms/step - loss: 0.0849 - val_loss: 0.0869\n",
      "Epoch 109/600\n",
      "14/14 [==============================] - 0s 19ms/step - loss: 0.0908 - val_loss: 0.0865\n",
      "Epoch 110/600\n",
      "14/14 [==============================] - 0s 18ms/step - loss: 0.1052 - val_loss: 0.1026\n",
      "Epoch 111/600\n",
      "14/14 [==============================] - 0s 20ms/step - loss: 0.1098 - val_loss: 0.1003\n",
      "Epoch 112/600\n",
      "14/14 [==============================] - 0s 22ms/step - loss: 0.0930 - val_loss: 0.0841\n",
      "Epoch 113/600\n",
      "14/14 [==============================] - 0s 19ms/step - loss: 0.0996 - val_loss: 0.0856\n",
      "Epoch 114/600\n",
      "14/14 [==============================] - 0s 25ms/step - loss: 0.0926 - val_loss: 0.0967\n",
      "Epoch 115/600\n",
      "14/14 [==============================] - 0s 21ms/step - loss: 0.0855 - val_loss: 0.0952\n",
      "Epoch 116/600\n",
      "14/14 [==============================] - 0s 19ms/step - loss: 0.0988 - val_loss: 0.0883\n",
      "Epoch 116: early stopping\n"
     ]
    },
    {
     "data": {
      "text/plain": [
       "<keras.callbacks.History at 0x1562ade5910>"
      ]
     },
     "execution_count": 18,
     "metadata": {},
     "output_type": "execute_result"
    }
   ],
   "source": [
    "model.fit(x=X_train, \n",
    "          y=y_train, \n",
    "          epochs=600,\n",
    "          validation_data=(X_test, y_test), verbose=1,\n",
    "          callbacks=[early_stop,board]\n",
    "          )"
   ]
  },
  {
   "cell_type": "markdown",
   "metadata": {},
   "source": [
    "# Running Tensorboard\n"
   ]
  },
  {
   "cell_type": "markdown",
   "metadata": {},
   "source": [
    "## Running through the Command Line\n",
    "\n",
    "**Watch video to see how to run Tensorboard through a command line call.**"
   ]
  },
  {
   "cell_type": "markdown",
   "metadata": {},
   "source": [
    "Tensorboard will run locally in your browser at [http://localhost:6006/](http://localhost:6006/)\n"
   ]
  },
  {
   "cell_type": "code",
   "execution_count": 19,
   "metadata": {},
   "outputs": [
    {
     "name": "stdout",
     "output_type": "stream",
     "text": [
      "logs\\fit\n"
     ]
    }
   ],
   "source": [
    "print(log_directory)"
   ]
  },
  {
   "cell_type": "code",
   "execution_count": 20,
   "metadata": {},
   "outputs": [
    {
     "data": {
      "text/plain": [
       "'c:\\\\Users\\\\manor\\\\OneDrive - kettering.edu\\\\Online Learning Portal Docs\\\\Udemy\\\\Personal\\\\Python for Data Science and Machine Learning Bootcamp\\\\deep_learning_tensorflow'"
      ]
     },
     "execution_count": 20,
     "metadata": {},
     "output_type": "execute_result"
    }
   ],
   "source": [
    "pwd"
   ]
  },
  {
   "cell_type": "markdown",
   "metadata": {},
   "source": [
    "### Use cd at your command line to change directory to the file path reported back by pwd or your current .py file location.\n",
    "### Then run this code at your command line or terminal"
   ]
  },
  {
   "cell_type": "code",
   "execution_count": 22,
   "metadata": {},
   "outputs": [],
   "source": [
    "# tensorboard --logdir logs\\fit "
   ]
  }
 ],
 "metadata": {
  "kernelspec": {
   "display_name": "venv",
   "language": "python",
   "name": "python3"
  },
  "language_info": {
   "codemirror_mode": {
    "name": "ipython",
    "version": 3
   },
   "file_extension": ".py",
   "mimetype": "text/x-python",
   "name": "python",
   "nbconvert_exporter": "python",
   "pygments_lexer": "ipython3",
   "version": "3.8.10"
  },
  "vscode": {
   "interpreter": {
    "hash": "15b32b2cde8fa41eeac1fb310922f237711f19aec856398eb142445d1f54deec"
   }
  }
 },
 "nbformat": 4,
 "nbformat_minor": 2
}
